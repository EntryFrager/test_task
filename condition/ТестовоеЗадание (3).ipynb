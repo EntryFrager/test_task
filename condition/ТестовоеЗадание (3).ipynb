{
  "cells": [
    {
      "cell_type": "markdown",
      "metadata": {
        "id": "OEpyu4N4Ijy3"
      },
      "source": [
        "# Тестовое задание"
      ]
    },
    {
      "cell_type": "markdown",
      "metadata": {
        "id": "Qa7hDHDVIk5d"
      },
      "source": [
        "## Импорт необходимых библиотек"
      ]
    },
    {
      "cell_type": "code",
      "execution_count": 14,
      "metadata": {
        "id": "kL1kLgSnIjRC"
      },
      "outputs": [
        {
          "ename": "",
          "evalue": "",
          "output_type": "error",
          "traceback": [
            "\u001b[1;31mRunning cells with 'Python 3.12.3' requires the ipykernel package.\n",
            "\u001b[1;31mRun the following command to install 'ipykernel' into the Python environment. \n",
            "\u001b[1;31mCommand: '/bin/python3 -m pip install ipykernel -U --user --force-reinstall'"
          ]
        }
      ],
      "source": [
        "import torch\n",
        "import torchvision\n",
        "import torch.nn as nn\n",
        "import numpy as np\n",
        "import random\n",
        "import warnings\n",
        "import os\n",
        "\n",
        "from tqdm import tqdm\n",
        "from sklearn.metrics import accuracy_score\n",
        "\n",
        "warnings.filterwarnings(\"ignore\")"
      ]
    },
    {
      "cell_type": "markdown",
      "metadata": {
        "id": "nNnHpj6QN77B"
      },
      "source": [
        "## Зафиксируем сид для воспроизводимости"
      ]
    },
    {
      "cell_type": "code",
      "execution_count": 2,
      "metadata": {
        "id": "_XDbhOiHN_k3"
      },
      "outputs": [],
      "source": [
        "DEFAULT_RANDOM_SEED = 42\n",
        "\n",
        "def seedBasic(seed=DEFAULT_RANDOM_SEED):\n",
        "    random.seed(seed)\n",
        "    os.environ['PYTHONHASHSEED'] = str(seed)\n",
        "    np.random.seed(seed)\n",
        "\n",
        "def seedTorch(seed=DEFAULT_RANDOM_SEED):\n",
        "    torch.manual_seed(seed)\n",
        "    torch.cuda.manual_seed(seed)\n",
        "    torch.backends.cudnn.deterministic = True\n",
        "    torch.backends.cudnn.benchmark = False\n",
        "\n",
        "def seedEverything(seed=DEFAULT_RANDOM_SEED):\n",
        "    seedBasic(seed)\n",
        "    seedTorch(seed)"
      ]
    },
    {
      "cell_type": "code",
      "execution_count": 3,
      "metadata": {
        "id": "TaqdhRXsN-uK"
      },
      "outputs": [],
      "source": [
        "seedEverything(1)"
      ]
    },
    {
      "cell_type": "markdown",
      "metadata": {
        "id": "Vk0VfHGBKCoR"
      },
      "source": [
        "## Определяем на чем будет происходить обучение"
      ]
    },
    {
      "cell_type": "code",
      "execution_count": 4,
      "metadata": {
        "colab": {
          "base_uri": "https://localhost:8080/"
        },
        "id": "gtWB3NG0KJHI",
        "outputId": "4849f449-bb88-4a7f-d795-be95029f8323"
      },
      "outputs": [
        {
          "name": "stdout",
          "output_type": "stream",
          "text": [
            "cuda\n"
          ]
        }
      ],
      "source": [
        "device = 'cuda' if torch.cuda.is_available() else 'cpu'\n",
        "print(device)"
      ]
    },
    {
      "cell_type": "markdown",
      "metadata": {
        "id": "7z1KQ5jMJAOC"
      },
      "source": [
        "## Определяем структуру простой сверточной нейронной сети описанной в статье"
      ]
    },
    {
      "cell_type": "code",
      "execution_count": 5,
      "metadata": {
        "id": "FU99XyyTI5eW"
      },
      "outputs": [],
      "source": [
        "class BaselineMNISTNetwork(nn.Module):\n",
        "    def __init__(self, num_classes) -> None:\n",
        "        super().__init__()\n",
        "\n",
        "        self.conv1 = nn.Conv2d(\n",
        "            in_channels=1, out_channels=16, kernel_size=(5, 5), stride=1\n",
        "        )\n",
        "\n",
        "        self.ReLU = nn.ReLU()\n",
        "\n",
        "        self.flatten = nn.Flatten()\n",
        "\n",
        "        self.pool1 = nn.AvgPool2d(kernel_size=2, stride=2)\n",
        "\n",
        "        self.conv2 = nn.Conv2d(\n",
        "            in_channels=16, out_channels=32, kernel_size=(5, 5), stride=1\n",
        "        )\n",
        "\n",
        "        self.pool2 = nn.AvgPool2d(kernel_size=2, stride=2)\n",
        "\n",
        "        self.fc1 = nn.Linear(in_features=512, out_features=512)\n",
        "        self.fc2 = nn.Linear(in_features=512, out_features=num_classes)\n",
        "        self.softmax = nn.Softmax()\n",
        "\n",
        "    def forward(self, x):\n",
        "        x = self.pool1(self.ReLU(self.conv1(x)))\n",
        "        x = self.pool2(self.ReLU(self.conv2(x)))\n",
        "        x = self.flatten(x)\n",
        "        x = self.ReLU(self.fc1(x))\n",
        "        x = self.softmax(self.fc2(x))\n",
        "        return x"
      ]
    },
    {
      "cell_type": "markdown",
      "metadata": {
        "id": "Kn4GmOTOJQYH"
      },
      "source": [
        "## Фиксируем необходимые гиперпараметры"
      ]
    },
    {
      "cell_type": "code",
      "execution_count": 6,
      "metadata": {
        "id": "RA9c3AIAJUxH"
      },
      "outputs": [],
      "source": [
        "batch_size = 32\n",
        "learning_rate = 0.01\n",
        "epochs = 10\n",
        "num_classes = 10"
      ]
    },
    {
      "cell_type": "markdown",
      "metadata": {
        "id": "Ekpwdih-OVSv"
      },
      "source": [
        "## Загружаем набор данных для обучения MNIST"
      ]
    },
    {
      "cell_type": "code",
      "execution_count": 24,
      "metadata": {
        "id": "qFYm7EaDOZox"
      },
      "outputs": [],
      "source": [
        "traindataset = torchvision.datasets.MNIST('/datasets/', train=True, download=True,\n",
        "                             transform=torchvision.transforms.Compose([\n",
        "                               torchvision.transforms.ToTensor(),\n",
        "                               torchvision.transforms.Normalize(\n",
        "                                 (0.1307,), (0.3081,))\n",
        "                             ]))\n",
        "trainloader = torch.utils.data.DataLoader(traindataset, batch_size=batch_size, shuffle=True)\n",
        "\n",
        "testdataset = torchvision.datasets.MNIST('/datasets/', train=False, download=True,\n",
        "                             transform=torchvision.transforms.Compose([\n",
        "                               torchvision.transforms.ToTensor(),\n",
        "                               torchvision.transforms.Normalize(\n",
        "                                 (0.1307,), (0.3081,))\n",
        "                             ]))\n",
        "testloader = torch.utils.data.DataLoader(testdataset, batch_size=batch_size, shuffle=True)"
      ]
    },
    {
      "cell_type": "markdown",
      "metadata": {
        "id": "Anf5I1pYJih-"
      },
      "source": [
        "## Определяем модель, функцию потерь и оптимизатор"
      ]
    },
    {
      "cell_type": "code",
      "execution_count": 8,
      "metadata": {
        "id": "XrMcKR1aJh_3"
      },
      "outputs": [],
      "source": [
        "criterion = nn.CrossEntropyLoss()\n",
        "model = BaselineMNISTNetwork(num_classes)\n",
        "model = model.to(device)\n",
        "optimizer = torch.optim.SGD(model.parameters(), lr=learning_rate, momentum=0.9)"
      ]
    },
    {
      "cell_type": "markdown",
      "metadata": {
        "id": "8B4oIR8sLGqH"
      },
      "source": [
        "## Метрика качества"
      ]
    },
    {
      "cell_type": "code",
      "execution_count": 9,
      "metadata": {
        "id": "ymtRrFIrLFqf"
      },
      "outputs": [],
      "source": [
        "metric_func = accuracy_score"
      ]
    },
    {
      "cell_type": "markdown",
      "metadata": {
        "id": "JJ2I5ih2JvsW"
      },
      "source": [
        "## Процесс обучения модели"
      ]
    },
    {
      "cell_type": "code",
      "execution_count": 22,
      "metadata": {
        "id": "nF-CX2YNJwJf"
      },
      "outputs": [],
      "source": [
        "def train(model, trainloader, testloader, epochs, optimizer, criterion, metric_func):\n",
        "\n",
        "  model.train()\n",
        "\n",
        "  bar = tqdm(total=epochs, ncols=120)\n",
        "  for epoch in range(epochs):\n",
        "\n",
        "    train_acc = 0\n",
        "    test_acc = 0\n",
        "    train_loss = 0\n",
        "\n",
        "    for (batch_idx, train_batch) in enumerate(trainloader):\n",
        "      images, label = train_batch[0].to(device), train_batch[1].to(device)\n",
        "      logits = model(images)\n",
        "      preds = logits.argmax(dim=1)\n",
        "      loss = criterion(logits, label)\n",
        "\n",
        "      optimizer.zero_grad()\n",
        "      loss.backward()\n",
        "      optimizer.step()\n",
        "\n",
        "      train_loss += loss.item()\n",
        "      train_acc += metric_func(preds.cpu().numpy(), label.cpu().numpy())\n",
        "\n",
        "    train_acc = train_acc / len(trainloader)\n",
        "    train_loss = train_loss / len(trainloader)\n",
        "\n",
        "    model.eval()\n",
        "\n",
        "    with torch.no_grad():\n",
        "      for test_batch in testloader:\n",
        "        images, label = test_batch[0].to(device), test_batch[1].to(device)\n",
        "        logits = model(images)\n",
        "        preds = logits.argmax(dim=1)\n",
        "        test_acc += metric_func(preds.cpu().numpy(), label.cpu().numpy())\n",
        "\n",
        "    test_acc = test_acc / len(testloader)\n",
        "\n",
        "    model.train()\n",
        "\n",
        "    bar.set_description(f\"|EPOCH: {epoch+1}|TRAIN_LOSS: {round(train_loss, 3)}|TRAIN_ACC: {round(train_acc, 3)}|TEST_ACC: {round(test_acc, 3)}\")\n",
        "    bar.update()\n",
        "\n",
        "  return model"
      ]
    },
    {
      "cell_type": "markdown",
      "metadata": {
        "id": "ufEZ9qaqMrBv"
      },
      "source": [
        "## Запускаем процесс обучения модели"
      ]
    },
    {
      "cell_type": "code",
      "execution_count": 23,
      "metadata": {
        "colab": {
          "base_uri": "https://localhost:8080/"
        },
        "id": "y7WBRHPeMkvm",
        "outputId": "6cbbb61d-7a90-41b0-ffc5-7539f089e735"
      },
      "outputs": [
        {
          "name": "stderr",
          "output_type": "stream",
          "text": [
            "\n",
            "  0%|                                                                                            | 0/10 [00:00<?, ?it/s]\u001b[A\n",
            "|EPOCH: 1|TRAIN_LOSS: 1.468|TRAIN_ACC: 0.994|TEST_ACC: 0.99:   0%|                               | 0/10 [00:25<?, ?it/s]\u001b[A\n",
            "|EPOCH: 1|TRAIN_LOSS: 1.468|TRAIN_ACC: 0.994|TEST_ACC: 0.99:  10%|██▎                    | 1/10 [00:25<03:49, 25.55s/it]\u001b[A\n",
            "|EPOCH: 2|TRAIN_LOSS: 1.467|TRAIN_ACC: 0.994|TEST_ACC: 0.99:  10%|██▎                    | 1/10 [00:51<03:49, 25.55s/it]\u001b[A\n",
            "|EPOCH: 2|TRAIN_LOSS: 1.467|TRAIN_ACC: 0.994|TEST_ACC: 0.99:  20%|████▌                  | 2/10 [00:51<03:24, 25.52s/it]\u001b[A\n",
            "|EPOCH: 3|TRAIN_LOSS: 1.467|TRAIN_ACC: 0.995|TEST_ACC: 0.989:  20%|████▍                 | 2/10 [01:16<03:24, 25.52s/it]\u001b[A\n",
            "|EPOCH: 3|TRAIN_LOSS: 1.467|TRAIN_ACC: 0.995|TEST_ACC: 0.989:  30%|██████▌               | 3/10 [01:16<02:57, 25.37s/it]\u001b[A\n",
            "|EPOCH: 4|TRAIN_LOSS: 1.466|TRAIN_ACC: 0.995|TEST_ACC: 0.99:  30%|██████▉                | 3/10 [01:41<02:57, 25.37s/it]\u001b[A\n",
            "|EPOCH: 4|TRAIN_LOSS: 1.466|TRAIN_ACC: 0.995|TEST_ACC: 0.99:  40%|█████████▏             | 4/10 [01:41<02:32, 25.50s/it]\u001b[A\n",
            "|EPOCH: 5|TRAIN_LOSS: 1.466|TRAIN_ACC: 0.995|TEST_ACC: 0.992:  40%|████████▊             | 4/10 [02:07<02:32, 25.50s/it]\u001b[A\n",
            "|EPOCH: 5|TRAIN_LOSS: 1.466|TRAIN_ACC: 0.995|TEST_ACC: 0.992:  50%|███████████           | 5/10 [02:07<02:07, 25.44s/it]\u001b[A\n",
            "|EPOCH: 6|TRAIN_LOSS: 1.466|TRAIN_ACC: 0.996|TEST_ACC: 0.991:  50%|███████████           | 5/10 [02:33<02:07, 25.44s/it]\u001b[A\n",
            "|EPOCH: 6|TRAIN_LOSS: 1.466|TRAIN_ACC: 0.996|TEST_ACC: 0.991:  60%|█████████████▏        | 6/10 [02:33<01:42, 25.74s/it]\u001b[A\n",
            "|EPOCH: 7|TRAIN_LOSS: 1.466|TRAIN_ACC: 0.996|TEST_ACC: 0.991:  60%|█████████████▏        | 6/10 [02:57<01:42, 25.74s/it]\u001b[A\n",
            "|EPOCH: 7|TRAIN_LOSS: 1.466|TRAIN_ACC: 0.996|TEST_ACC: 0.991:  70%|███████████████▍      | 7/10 [02:57<01:15, 25.16s/it]\u001b[A\n",
            "|EPOCH: 8|TRAIN_LOSS: 1.465|TRAIN_ACC: 0.996|TEST_ACC: 0.991:  70%|███████████████▍      | 7/10 [03:20<01:15, 25.16s/it]\u001b[A\n",
            "|EPOCH: 8|TRAIN_LOSS: 1.465|TRAIN_ACC: 0.996|TEST_ACC: 0.991:  80%|█████████████████▌    | 8/10 [03:20<00:48, 24.32s/it]\u001b[A\n",
            "|EPOCH: 9|TRAIN_LOSS: 1.465|TRAIN_ACC: 0.996|TEST_ACC: 0.991:  80%|█████████████████▌    | 8/10 [03:42<00:48, 24.32s/it]\u001b[A\n",
            "|EPOCH: 9|TRAIN_LOSS: 1.465|TRAIN_ACC: 0.996|TEST_ACC: 0.991:  90%|███████████████████▊  | 9/10 [03:42<00:23, 23.66s/it]\u001b[A\n",
            "|EPOCH: 10|TRAIN_LOSS: 1.465|TRAIN_ACC: 0.996|TEST_ACC: 0.99:  90%|███████████████████▊  | 9/10 [04:03<00:23, 23.66s/it]\u001b[A\n",
            "|EPOCH: 10|TRAIN_LOSS: 1.465|TRAIN_ACC: 0.996|TEST_ACC: 0.99: 100%|█████████████████████| 10/10 [04:03<00:00, 24.34s/it]\n"
          ]
        }
      ],
      "source": [
        "model = train(model, trainloader, testloader, epochs, optimizer, criterion, metric_func)"
      ]
    },
    {
      "cell_type": "markdown",
      "metadata": {
        "id": "DA1wts7SR0MJ"
      },
      "source": [
        "## Задание"
      ]
    },
    {
      "cell_type": "markdown",
      "metadata": {
        "id": "8HsS1pWISbXp"
      },
      "source": [
        "* Попробуйте реализовать backdoor-атаку, описанную в статье в главе **4. Case Study: MNIST Digit Recognition Attack**.\n",
        "* В качестве триггера, внедряемого в изображение, предлагается использовать представленный в статье вариант.\n",
        "* Возможно, вам захочется придумать свой собственный триггер (пример изображен на рисунке ниже).\n",
        "* Подумайте, каким образом можно сделать используемый триггер более незаметным.\n",
        "* Для выбора целевой метки можно воспользоваться механизмом, представленным в статье, или выбрать свою собственную из 10 представленных классов (помните, что целевая метка не должна совпадать с истинной меткой для заражённых изображений в наборе данных).\n",
        "* В качестве модели сверточной нейронной сети используйте модель, реализованную ниже.\n",
        "* Набор данных на данном этапе уже загружен (**traindataset**, **testdataset**). Посмотрите, что находится внутри данных наборов данных, и как можно получить изображения с метками классов. Далее внедрите выбранный вами триггер в отобранные из **traindataset** изображения, измените метки классов данных изображений на целевую и верните изменённые изображения в **traindataset**.\n",
        "* Запустите обучение модели на заражённом **traindataset**.\n",
        "* После обучения проверьте работоспособность атаки.\n",
        "\n",
        "![image.png](data:image/png;base64,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)"
      ]
    },
    {
      "cell_type": "code",
      "execution_count": null,
      "metadata": {
        "id": "MuYaGCycTDAD"
      },
      "outputs": [],
      "source": [
        "# тут Ваш код"
      ]
    }
  ],
  "metadata": {
    "accelerator": "GPU",
    "colab": {
      "gpuType": "T4",
      "provenance": [],
      "toc_visible": true
    },
    "kernelspec": {
      "display_name": "Python 3",
      "name": "python3"
    },
    "language_info": {
      "name": "python",
      "version": "3.12.3"
    }
  },
  "nbformat": 4,
  "nbformat_minor": 0
}
